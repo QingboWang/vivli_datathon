{
 "cells": [
  {
   "cell_type": "code",
   "execution_count": 1,
   "metadata": {},
   "outputs": [
    {
     "name": "stderr",
     "output_type": "stream",
     "text": [
      "Running on Apache Spark version 2.4.3\n",
      "SparkUI available at http://qbwcluster-m.c.broad-mpg-gnomad.internal:4041\n",
      "Welcome to\n",
      "     __  __     <>__\n",
      "    / /_/ /__  __/ /\n",
      "   / __  / _ `/ / /\n",
      "  /_/ /_/\\_,_/_/_/   version 0.2.14-c489420c236d\n",
      "LOGGING: writing to /home/hail/hail-20190621-1933-0.2.14-c489420c236d.log\n"
     ]
    }
   ],
   "source": [
    "#prep\n",
    "\n",
    "import hail as hl\n",
    "import hail.expr.aggregators as agg\n",
    "from typing import *\n",
    "hl.init()\n",
    "import pandas as pd\n",
    "import time as tm\n",
    "from scipy import stats\n",
    "import numpy as np\n",
    "import random\n",
    "from matplotlib import pyplot as plt\n",
    "\n",
    "fn_default = \"gs://gnomad-qingbowang/vivli_datathon/Shared/As individual files/Trial 1-GIST/syn_a_drgexp_plus_event.csv\"\n",
    "\n",
    "def plot_histogram(data_path_in_cloud=fn_default, filter_by=(\"AVGDOS_N\",10), group_by=\"NONE\", hist_of=\"TERMREAS\", cnt_threshold=10):\n",
    "    #larger than is always true for the filtering\n",
    "    print (\"accessing the data on cloud. {0}\".format(tm.ctime()))\n",
    "    with hl.hadoop_open(data_path_in_cloud, 'r') as f:\n",
    "        d = pd.read_csv(f, sep=\",\")\n",
    "    print (\"filtering the data by {0} larger than {1}. {2}\".format(filter_by[0], filter_by[1], tm.ctime()))\n",
    "    d = d[d[filter_by[0]]>filter_by[1]]\n",
    "    if group_by==\"NONE\":#just simple plot of a column\n",
    "        print (\"plotting {0}\".format(hist_of))\n",
    "        d[hist_of].hist()\n",
    "        plt.xlabel(hist_of)\n",
    "        plt.ylabel(\"number of samples\")\n",
    "        plt.title(\"histogram for {0} (real data)\".format(hist_of))\n",
    "    #plt.show()\n",
    "    \"\"\"\n",
    "    else: #WIP\n",
    "        print (\"generating the histogram of {0} grouped by {1}. {2}\".format(hist_of, group_by, tm.ctime())\n",
    "        for i in d[group_by].unique():\n",
    "               if sum(d[group_by]==i)>cnt_threshold:\n",
    "                   plt.hist(, label = i)\n",
    "        plt.legend(title=group_by)\n",
    "    \"\"\"\n",
    "\n",
    "def get_basic_stats(data_path_in_cloud=fn_default, filter_by=(\"AVGDOS_N\",10), group_by=[\"AVGDOS_C\"], agg_with=\"TERMREAS\", stats_to_return=\"ALL\", cnt_threshold=10):\n",
    "    #larger than is always true for the filtering\n",
    "    print (\"accessing the data on cloud. {0}\".format(tm.ctime()))\n",
    "    with hl.hadoop_open(data_path_in_cloud, 'r') as f:\n",
    "        d = pd.read_csv(f, sep=\",\")\n",
    "    print (\"filtering the data by {0} larger than {1}. {2}\".format(filter_by[0], filter_by[1], tm.ctime()))\n",
    "    d = d[d[filter_by[0]]>filter_by[1]]\n",
    "    print (\"grouping the data by {0}. {1}\".format(\",\".join(group_by), tm.ctime()))\n",
    "    agg = d.groupby(group_by).agg(agg_with).describe()\n",
    "    size_bef = agg[\"count\"].sum() #keep the size before filtering\n",
    "    #fiiter to stats to return\n",
    "    agg = agg[agg[\"count\"]>=cnt_threshold]\n",
    "    size_af = agg[\"count\"].sum()\n",
    "    print (\"{0} samples are filtered out because of having less than {1} samples after aggregation\".format(size_bef - size_af, cnt_threshold))\n",
    "    if stats_to_return!=\"ALL\":\n",
    "        agg = agg.loc[:,stats_to_return]\n",
    "    return (agg)\n",
    "    \n",
    "\n",
    "#function to output the samples that satisfies the condition (not shared to individuals)\n",
    "def get_sample_ids(data_path_in_cloud=fn_default, filter_by=(\"AVGDOS_N\",10), group_by=\"AVGDOS_C\", cnt_threshold=0, id_column=\"MASK_ID\"):\n",
    "    #group_by is for single column for now. multiple columns implementation later.\n",
    "    print (\"accessing the data on cloud. {0}\".format(tm.ctime()))\n",
    "    with hl.hadoop_open(data_path_in_cloud, 'r') as f:\n",
    "        d = pd.read_csv(f, sep=\",\")\n",
    "    print (\"filtering the data by {0} larger than {1}. {2}\".format(filter_by[0], filter_by[1], tm.ctime()))\n",
    "    d = d[d[filter_by[0]]>filter_by[1]]\n",
    "    output_dict = {}\n",
    "    uni_groups = d[group_by].unique()\n",
    "    for i in uni_groups:\n",
    "        output_dict[i] = list(d[d[group_by]==i][id_column])\n",
    "    print (\"returing a dictionary of key={0}, value={1}\".format(group_by, id_column))\n",
    "    return (output_dict)\n",
    "\n",
    "\n",
    "#function to perform statistical test\n",
    "#for a single column: do it with 1 vs others, multiple times, summarize the result\n",
    "def perform_statistical_test(data_path_in_cloud=fn_default, \n",
    "                             filter_by=(\"AVGDOS_N\",10), group_by=\"AVGDOS_C\", test_column=\"TERMREAS\", test_method=\"t_test\", cnt_threshold=10):\n",
    "    #t-test for quantitative, chi^2 test for qualitative\n",
    "    print (\"accessing the data on cloud. {0}\".format(tm.ctime()))\n",
    "    with hl.hadoop_open(data_path_in_cloud, 'r') as f:\n",
    "        d = pd.read_csv(f, sep=\",\")\n",
    "    print (\"filtering the data by {0} larger than {1}. {2}\".format(filter_by[0], filter_by[1], tm.ctime()))\n",
    "    d = d[d[filter_by[0]]>filter_by[1]]\n",
    "    uni_groups = d[group_by].unique()\n",
    "    output = {}\n",
    "    output[\"{0} category\".format(group_by)] = \"{0} difference\".format(test_column)\n",
    "    for i in uni_groups:\n",
    "        case = np.array(d[d[group_by]==i][test_column])\n",
    "        oth = np.array(d[d[group_by]!=i][test_column])\n",
    "        #remove nas\n",
    "        case = case[~np.isnan(case)]\n",
    "        oth = oth[~np.isnan(oth)]\n",
    "        if test_method==\"t_test\":\n",
    "            tst = stats.ttest_ind(case, oth)\n",
    "            keyname = \"{0} vs others\".format(i)\n",
    "            output[keyname] = tst\n",
    "        #elif test_method==\"chi_square\":\n",
    "        #    tst = stats.chisquare(case, oth)\n",
    "        #    keyname = \"{0} vs others\".format(i)\n",
    "        #    output[keyname] = tst\n",
    "        #implement chi^2 test later...\n",
    "        else:\n",
    "            return (\"error: only t_test (for quantitative) or chi_square (for qualitative) can be used\")\n",
    "    print (\"returing the result of {0} \\n for the difference of {1} \\n in each of the category in {2}\".format(test_method, test_column, group_by))\n",
    "    return (output)\n",
    "\n",
    "def perform_permutation(patient_ids=np.arange(1, 773+1), id_column=\"MASK_ID\", N_PERM=10, data_path_in_cloud=fn_default):  \n",
    "    print (\"accessing the data on cloud. {0}\".format(tm.ctime()))\n",
    "    with hl.hadoop_open(data_path_in_cloud, 'r') as f:\n",
    "        drgexp = pd.read_csv(f, sep=\",\", index_col=0)\n",
    "    columns = list(drgexp) \n",
    "    col_dtypes = ['int64', 'int64', 'float64', 'int64', 'int64', 'int64', 'int64', \n",
    "                  'int64', 'int64', 'int64', 'int64', 'int64', 'int64', 'int64', \"int64\"]    \n",
    "    all_cols = []\n",
    "    for i in range(N_PERM):\n",
    "        random_patient_id = random.sample(set(patient_ids), 3)\n",
    "        permuted_drgexp = drgexp[drgexp[id_column].isin(random_patient_id)]\n",
    "        new_col = []\n",
    "        for col_id,col in enumerate(columns):\n",
    "            if col_dtypes[col_id] in ['float64']:\n",
    "                new_col.append( np.mean(permuted_drgexp[col]))\n",
    "            elif col_dtypes[col_id] in ['int64']:\n",
    "                new_col.append(stats.mode(permuted_drgexp[col])[0][0])\n",
    "            else:\n",
    "                new_col.append(stats.mode(permuted_drgexp[col])[0][0])\n",
    "        all_cols.append(new_col)\n",
    "    new_df = pd.DataFrame(all_cols, columns = list(columns))\n",
    "    del new_df[\"MASK_ID\"]\n",
    "    new_df[\"MASK_ID_synthetic\"] = np.arange(new_df.shape[0])\n",
    "    return(new_df)"
   ]
  },
  {
   "cell_type": "code",
   "execution_count": 2,
   "metadata": {},
   "outputs": [
    {
     "name": "stdout",
     "output_type": "stream",
     "text": [
      "accessing the data on cloud. Fri Jun 21 19:33:49 2019\n",
      "filtering the data by AVGDOS_N larger than 10. Fri Jun 21 19:33:50 2019\n",
      "plotting AVGDOS_N\n"
     ]
    },
    {
     "data": {
      "image/png": "[encoded data removed]",
      "text/plain": [
       "<Figure size 432x288 with 1 Axes>"
      ]
     },
     "metadata": {
      "needs_background": "light"
     },
     "output_type": "display_data"
    }
   ],
   "source": [
    "#show distribution:\n",
    "plot_histogram(hist_of=\"AVGDOS_N\")"
   ]
  },
  {
   "cell_type": "code",
   "execution_count": 3,
   "metadata": {},
   "outputs": [
    {
     "name": "stdout",
     "output_type": "stream",
     "text": [
      "accessing the data on cloud. Fri Jun 21 19:33:54 2019\n",
      "filtering the data by AVGDOS_C larger than 2. Fri Jun 21 19:33:54 2019\n",
      "grouping the data by EVENT. Fri Jun 21 19:33:54 2019\n",
      "0.0 samples are filtered out because of having less than 10 samples after aggregation\n",
      "\n",
      " agg stats for AVGDOS_C:\n"
     ]
    },
    {
     "data": {
      "text/html": [
       "<div>\n",
       "<style scoped>\n",
       "    .dataframe tbody tr th:only-of-type {\n",
       "        vertical-align: middle;\n",
       "    }\n",
       "\n",
       "    .dataframe tbody tr th {\n",
       "        vertical-align: top;\n",
       "    }\n",
       "\n",
       "    .dataframe thead th {\n",
       "        text-align: right;\n",
       "    }\n",
       "</style>\n",
       "<table border=\"1\" class=\"dataframe\">\n",
       "  <thead>\n",
       "    <tr style=\"text-align: right;\">\n",
       "      <th></th>\n",
       "      <th>count</th>\n",
       "      <th>mean</th>\n",
       "      <th>std</th>\n",
       "      <th>min</th>\n",
       "      <th>25%</th>\n",
       "      <th>50%</th>\n",
       "      <th>75%</th>\n",
       "      <th>max</th>\n",
       "    </tr>\n",
       "    <tr>\n",
       "      <th>EVENT</th>\n",
       "      <th></th>\n",
       "      <th></th>\n",
       "      <th></th>\n",
       "      <th></th>\n",
       "      <th></th>\n",
       "      <th></th>\n",
       "      <th></th>\n",
       "      <th></th>\n",
       "    </tr>\n",
       "  </thead>\n",
       "  <tbody>\n",
       "    <tr>\n",
       "      <th>0</th>\n",
       "      <td>553.0</td>\n",
       "      <td>394.141971</td>\n",
       "      <td>19.350352</td>\n",
       "      <td>300.00</td>\n",
       "      <td>400.0</td>\n",
       "      <td>400.0</td>\n",
       "      <td>400.0</td>\n",
       "      <td>400.0</td>\n",
       "    </tr>\n",
       "    <tr>\n",
       "      <th>1</th>\n",
       "      <td>96.0</td>\n",
       "      <td>394.595417</td>\n",
       "      <td>19.372020</td>\n",
       "      <td>303.95</td>\n",
       "      <td>400.0</td>\n",
       "      <td>400.0</td>\n",
       "      <td>400.0</td>\n",
       "      <td>400.0</td>\n",
       "    </tr>\n",
       "  </tbody>\n",
       "</table>\n",
       "</div>"
      ],
      "text/plain": [
       "       count        mean        std     min    25%    50%    75%    max\n",
       "EVENT                                                                  \n",
       "0      553.0  394.141971  19.350352  300.00  400.0  400.0  400.0  400.0\n",
       "1       96.0  394.595417  19.372020  303.95  400.0  400.0  400.0  400.0"
      ]
     },
     "execution_count": 3,
     "metadata": {},
     "output_type": "execute_result"
    }
   ],
   "source": [
    "#get basic stats\n",
    "test = get_basic_stats(filter_by=(\"AVGDOS_C\",2), group_by=[\"EVENT\"], agg_with=\"AVGDOS_N\", stats_to_return=\"ALL\", cnt_threshold=10)\n",
    "print (\"\\n agg stats for AVGDOS_C:\")\n",
    "test"
   ]
  },
  {
   "cell_type": "code",
   "execution_count": 4,
   "metadata": {},
   "outputs": [
    {
     "name": "stdout",
     "output_type": "stream",
     "text": [
      "accessing the data on cloud. Fri Jun 21 19:33:59 2019\n",
      "filtering the data by AVGDOS_C larger than 2. Fri Jun 21 19:33:59 2019\n",
      "returing the result of t_test \n",
      " for the difference of AVGDOS_N \n",
      " in each of the category in EVENT\n"
     ]
    },
    {
     "data": {
      "text/plain": [
       "{'EVENT category': 'AVGDOS_N difference',\n",
       " '1 vs others': Ttest_indResult(statistic=0.2119047673095539, pvalue=0.8322480665181062),\n",
       " '0 vs others': Ttest_indResult(statistic=-0.2119047673095539, pvalue=0.8322480665181062)}"
      ]
     },
     "execution_count": 4,
     "metadata": {},
     "output_type": "execute_result"
    }
   ],
   "source": [
    "#perform statistical test\n",
    "test2 = perform_statistical_test(filter_by=(\"AVGDOS_C\",2), group_by=\"EVENT\", test_column=\"AVGDOS_N\", cnt_threshold=10)\n",
    "test2"
   ]
  },
  {
   "cell_type": "code",
   "execution_count": 5,
   "metadata": {},
   "outputs": [
    {
     "name": "stdout",
     "output_type": "stream",
     "text": [
      "accessing the data on cloud. Fri Jun 21 19:34:05 2019\n"
     ]
    },
    {
     "name": "stderr",
     "output_type": "stream",
     "text": [
      "/opt/conda/lib/python3.6/site-packages/scipy/stats/stats.py:248: RuntimeWarning: The input array could not be properly checked for nan values. nan values will be ignored.\n",
      "  \"values. nan values will be ignored.\", RuntimeWarning)\n"
     ]
    }
   ],
   "source": [
    "#synthetic data:\n",
    "syn_data = perform_permutation(N_PERM=773)"
   ]
  },
  {
   "cell_type": "code",
   "execution_count": 6,
   "metadata": {},
   "outputs": [
    {
     "name": "stdout",
     "output_type": "stream",
     "text": [
      "accessing the data on cloud. Fri Jun 21 19:34:11 2019\n",
      "filtering the data by AVGDOS_N larger than 10. Fri Jun 21 19:34:11 2019\n",
      "plotting AVGDOS_N\n",
      "---\n"
     ]
    },
    {
     "data": {
      "text/plain": [
       "<matplotlib.legend.Legend at 0x7f9905565ef0>"
      ]
     },
     "execution_count": 6,
     "metadata": {},
     "output_type": "execute_result"
    },
    {
     "data": {
      "image/png": "[encoded data removed]",
      "text/plain": [
       "<Figure size 432x288 with 1 Axes>"
      ]
     },
     "metadata": {
      "needs_background": "light"
     },
     "output_type": "display_data"
    }
   ],
   "source": [
    "#synthetic data histogram looks OK\n",
    "plot_histogram(hist_of=\"AVGDOS_N\")\n",
    "print (\"---\")\n",
    "syn_data[syn_data.AVGDOS_N>10].AVGDOS_N.hist(label=\"synthetic data\", color=\"#00ff0044\")\n",
    "plt.legend()"
   ]
  },
  {
   "cell_type": "code",
   "execution_count": 7,
   "metadata": {},
   "outputs": [
    {
     "name": "stdout",
     "output_type": "stream",
     "text": [
      "accessing the data on cloud. Fri Jun 21 19:34:15 2019\n",
      "filtering the data by AVGDOS_C larger than 2. Fri Jun 21 19:34:16 2019\n",
      "grouping the data by EVENT. Fri Jun 21 19:34:16 2019\n",
      "0.0 samples are filtered out because of having less than 10 samples after aggregation\n",
      "\n",
      " agg stats for AVGDOS_C, real data:\n"
     ]
    },
    {
     "data": {
      "text/html": [
       "<div>\n",
       "<style scoped>\n",
       "    .dataframe tbody tr th:only-of-type {\n",
       "        vertical-align: middle;\n",
       "    }\n",
       "\n",
       "    .dataframe tbody tr th {\n",
       "        vertical-align: top;\n",
       "    }\n",
       "\n",
       "    .dataframe thead th {\n",
       "        text-align: right;\n",
       "    }\n",
       "</style>\n",
       "<table border=\"1\" class=\"dataframe\">\n",
       "  <thead>\n",
       "    <tr style=\"text-align: right;\">\n",
       "      <th></th>\n",
       "      <th>count</th>\n",
       "      <th>mean</th>\n",
       "      <th>std</th>\n",
       "      <th>min</th>\n",
       "      <th>25%</th>\n",
       "      <th>50%</th>\n",
       "      <th>75%</th>\n",
       "      <th>max</th>\n",
       "    </tr>\n",
       "    <tr>\n",
       "      <th>EVENT</th>\n",
       "      <th></th>\n",
       "      <th></th>\n",
       "      <th></th>\n",
       "      <th></th>\n",
       "      <th></th>\n",
       "      <th></th>\n",
       "      <th></th>\n",
       "      <th></th>\n",
       "    </tr>\n",
       "  </thead>\n",
       "  <tbody>\n",
       "    <tr>\n",
       "      <th>0</th>\n",
       "      <td>553.0</td>\n",
       "      <td>394.141971</td>\n",
       "      <td>19.350352</td>\n",
       "      <td>300.00</td>\n",
       "      <td>400.0</td>\n",
       "      <td>400.0</td>\n",
       "      <td>400.0</td>\n",
       "      <td>400.0</td>\n",
       "    </tr>\n",
       "    <tr>\n",
       "      <th>1</th>\n",
       "      <td>96.0</td>\n",
       "      <td>394.595417</td>\n",
       "      <td>19.372020</td>\n",
       "      <td>303.95</td>\n",
       "      <td>400.0</td>\n",
       "      <td>400.0</td>\n",
       "      <td>400.0</td>\n",
       "      <td>400.0</td>\n",
       "    </tr>\n",
       "  </tbody>\n",
       "</table>\n",
       "</div>"
      ],
      "text/plain": [
       "       count        mean        std     min    25%    50%    75%    max\n",
       "EVENT                                                                  \n",
       "0      553.0  394.141971  19.350352  300.00  400.0  400.0  400.0  400.0\n",
       "1       96.0  394.595417  19.372020  303.95  400.0  400.0  400.0  400.0"
      ]
     },
     "metadata": {},
     "output_type": "display_data"
    },
    {
     "name": "stdout",
     "output_type": "stream",
     "text": [
      "---\n",
      "\n",
      " agg stats for AVGDOS_C, synthetic data:\n"
     ]
    },
    {
     "data": {
      "text/html": [
       "<div>\n",
       "<style scoped>\n",
       "    .dataframe tbody tr th:only-of-type {\n",
       "        vertical-align: middle;\n",
       "    }\n",
       "\n",
       "    .dataframe tbody tr th {\n",
       "        vertical-align: top;\n",
       "    }\n",
       "\n",
       "    .dataframe thead th {\n",
       "        text-align: right;\n",
       "    }\n",
       "</style>\n",
       "<table border=\"1\" class=\"dataframe\">\n",
       "  <thead>\n",
       "    <tr style=\"text-align: right;\">\n",
       "      <th></th>\n",
       "      <th>count</th>\n",
       "      <th>mean</th>\n",
       "      <th>std</th>\n",
       "      <th>min</th>\n",
       "      <th>25%</th>\n",
       "      <th>50%</th>\n",
       "      <th>75%</th>\n",
       "      <th>max</th>\n",
       "    </tr>\n",
       "    <tr>\n",
       "      <th>EVENT</th>\n",
       "      <th></th>\n",
       "      <th></th>\n",
       "      <th></th>\n",
       "      <th></th>\n",
       "      <th></th>\n",
       "      <th></th>\n",
       "      <th></th>\n",
       "      <th></th>\n",
       "    </tr>\n",
       "  </thead>\n",
       "  <tbody>\n",
       "    <tr>\n",
       "      <th>0</th>\n",
       "      <td>718.0</td>\n",
       "      <td>391.778821</td>\n",
       "      <td>17.994212</td>\n",
       "      <td>286.056667</td>\n",
       "      <td>394.873333</td>\n",
       "      <td>400.0</td>\n",
       "      <td>400.0</td>\n",
       "      <td>400.0</td>\n",
       "    </tr>\n",
       "    <tr>\n",
       "      <th>1</th>\n",
       "      <td>35.0</td>\n",
       "      <td>394.290571</td>\n",
       "      <td>13.270322</td>\n",
       "      <td>351.975000</td>\n",
       "      <td>397.341667</td>\n",
       "      <td>400.0</td>\n",
       "      <td>400.0</td>\n",
       "      <td>400.0</td>\n",
       "    </tr>\n",
       "  </tbody>\n",
       "</table>\n",
       "</div>"
      ],
      "text/plain": [
       "       count        mean        std         min         25%    50%    75%  \\\n",
       "EVENT                                                                       \n",
       "0      718.0  391.778821  17.994212  286.056667  394.873333  400.0  400.0   \n",
       "1       35.0  394.290571  13.270322  351.975000  397.341667  400.0  400.0   \n",
       "\n",
       "         max  \n",
       "EVENT         \n",
       "0      400.0  \n",
       "1      400.0  "
      ]
     },
     "metadata": {},
     "output_type": "display_data"
    }
   ],
   "source": [
    "#compare basic stats:\n",
    "test = get_basic_stats(filter_by=(\"AVGDOS_C\",2), group_by=[\"EVENT\"], agg_with=\"AVGDOS_N\", stats_to_return=\"ALL\", cnt_threshold=10)\n",
    "print (\"\\n agg stats for AVGDOS_C, real data:\")\n",
    "\n",
    "display(test)\n",
    "\n",
    "print (\"---\")\n",
    "print (\"\\n agg stats for AVGDOS_C, synthetic data:\")\n",
    "syn_agg = syn_data[syn_data.AVGDOS_C>2].groupby(\"EVENT\").agg(\"AVGDOS_N\").describe()\n",
    "display(syn_agg)"
   ]
  },
  {
   "cell_type": "code",
   "execution_count": 8,
   "metadata": {},
   "outputs": [
    {
     "name": "stdout",
     "output_type": "stream",
     "text": [
      "t-test, real data:\n"
     ]
    },
    {
     "data": {
      "text/plain": [
       "{'EVENT category': 'AVGDOS_N difference',\n",
       " '1 vs others': Ttest_indResult(statistic=0.2119047673095539, pvalue=0.8322480665181062),\n",
       " '0 vs others': Ttest_indResult(statistic=-0.2119047673095539, pvalue=0.8322480665181062)}"
      ]
     },
     "execution_count": 8,
     "metadata": {},
     "output_type": "execute_result"
    }
   ],
   "source": [
    "#compare test stats:\n",
    "\n",
    "#t-test for real data\n",
    "\n",
    "#t-test for synthetic data\n",
    "group_by = \"EVENT\"\n",
    "test_column = \"AVGDOS_N\"\n",
    "uni_groups = syn_data[\"EVENT\"].unique()\n",
    "output = {}\n",
    "output[\"{0} category\".format(group_by)] = \"{0} difference\".format(test_column)\n",
    "for i in uni_groups:\n",
    "        case = np.array(syn_data[syn_data[group_by]==i][test_column])\n",
    "        oth = np.array(syn_data[syn_data[group_by]!=i][test_column])\n",
    "        #remove nas\n",
    "        case = case[~np.isnan(case)]\n",
    "        oth = oth[~np.isnan(oth)]\n",
    "        tst = stats.ttest_ind(case, oth)\n",
    "        keyname = \"{0} vs others\".format(i)\n",
    "        output[keyname] = tst\n",
    "test_syndata = output\n",
    "#comparison with real data:\n",
    "print (\"t-test, real data:\")\n",
    "test2"
   ]
  },
  {
   "cell_type": "code",
   "execution_count": 9,
   "metadata": {},
   "outputs": [
    {
     "name": "stdout",
     "output_type": "stream",
     "text": [
      "t-test, synthetic data:\n"
     ]
    },
    {
     "data": {
      "text/plain": [
       "{'EVENT category': 'AVGDOS_N difference',\n",
       " '0 vs others': Ttest_indResult(statistic=0.5188383228301839, pvalue=0.6040225664014929),\n",
       " '1 vs others': Ttest_indResult(statistic=-0.5188383228301839, pvalue=0.6040225664014929)}"
      ]
     },
     "execution_count": 9,
     "metadata": {},
     "output_type": "execute_result"
    }
   ],
   "source": [
    "print (\"t-test, synthetic data:\")\n",
    "test_syndata"
   ]
  },
  {
   "cell_type": "code",
   "execution_count": null,
   "metadata": {},
   "outputs": [],
   "source": []
  }
 ],
 "metadata": {
  "kernelspec": {
   "display_name": "Hail",
   "language": "python",
   "name": "hail"
  },
  "language_info": {
   "codemirror_mode": {
    "name": "ipython",
    "version": 3
   },
   "file_extension": ".py",
   "mimetype": "text/x-python",
   "name": "python",
   "nbconvert_exporter": "python",
   "pygments_lexer": "ipython3",
   "version": "3.6.8"
  }
 },
 "nbformat": 4,
 "nbformat_minor": 2
}
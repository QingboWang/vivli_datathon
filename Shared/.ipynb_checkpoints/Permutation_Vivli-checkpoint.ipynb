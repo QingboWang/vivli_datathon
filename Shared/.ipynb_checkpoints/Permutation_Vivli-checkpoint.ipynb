{
 "cells": [
  {
   "cell_type": "code",
   "execution_count": 1,
   "metadata": {
    "collapsed": true
   },
   "outputs": [],
   "source": [
    "import pandas as pd\n",
    "import random\n",
    "import numpy as np\n",
    "from scipy import stats\n"
   ]
  },
  {
   "cell_type": "code",
   "execution_count": 2,
   "metadata": {},
   "outputs": [],
   "source": [
    "aev = pd.read_csv(\"./Synthetic Data/Trial 1-GIST/syn_a_aev.csv\")\n",
    "drgexp = pd.read_csv(\"./Synthetic Data/Trial 1-GIST/syn_a_drgexp.csv\")\n",
    "effsen = pd.read_csv(\"./Synthetic Data/Trial 1-GIST/syn_a_effsen.csv\")\n",
    "ident = pd.read_csv(\"./Synthetic Data/Trial 1-GIST/syn_a_ident.csv\")\n",
    "lab = pd.read_csv(\"./Synthetic Data/Trial 1-GIST/syn_a_lab.csv\")"
   ]
  },
  {
   "cell_type": "code",
   "execution_count": 108,
   "metadata": {},
   "outputs": [],
   "source": [
    "def perform_permutation(patient_ids, N_PERM=10, data=[drgexp,effsen,lab]):\n",
    "    drgexp = data[0]\n",
    "    effsen = data[1]\n",
    "    \n",
    "    columns = list(drgexp) \n",
    "    col_dtypes = ['int64', 'int64', 'float64', 'int64', 'int64', 'int64', 'int64', \n",
    "                  'int64', 'int64', 'int64', 'int64', 'int64', 'int64', 'int64']\n",
    "    \n",
    "\n",
    "    all_cols = []\n",
    "    count_effsen = 0\n",
    "    count_lab = 0\n",
    "    new_effsen_df = pd.DataFrame(columns=effsen.columns)\n",
    "    new_lab_df = pd.DataFrame(columns=lab.columns)\n",
    "    for i in range(N_PERM):\n",
    "        updated_mask_id = i\n",
    "        random_patient_id = random.sample(set(patient_ids), 3)\n",
    "        \n",
    "        #FOR DRUG DATA (DRGEXP)\n",
    "        permuted_drgexp = drgexp[drgexp['MASK_ID'].isin(random_patient_id)]\n",
    "        \n",
    "        new_col = []\n",
    "        for col_id,col in enumerate(columns):\n",
    "            if col_dtypes[col_id] in ['float64']:\n",
    "                new_col.append( np.mean(permuted_drgexp[col]))\n",
    "            elif col_dtypes[col_id] in ['int64']:\n",
    "                new_col.append(stats.mode(permuted_drgexp[col])[0][0])\n",
    "            else:\n",
    "                new_col.append(stats.mode(permuted_drgexp[col])[0][0])\n",
    "            new_col[0] = updated_mask_id\n",
    "        all_cols.append(new_col)\n",
    "        \n",
    "        \n",
    "        #FOR EFFSEN Data\n",
    "        effsen[effsen['MASK_ID'].isin(random_patient_id)]\n",
    "\n",
    "        effsen_df = pd.DataFrame(columns=effsen.columns)\n",
    "        for pos_id in range(8):\n",
    "            pos = [0+pos_id, 8+pos_id, 16+pos_id]\n",
    "            TT_EVENT = np.mean(effsen.iloc[pos])[1]\n",
    "            EVENT = stats.mode(effsen.iloc[pos]['EVENT'])[0][0]\n",
    "            new_effsen_df.loc[count_effsen] = [updated_mask_id, effsen.iloc[pos[0]]['E_TEXT'], int(TT_EVENT), EVENT] \n",
    "            count_effsen += 1\n",
    "    \n",
    "        #FOR LAB DATA\n",
    "        lab[lab['MASK_ID'].isin(random_patient_id)]\n",
    "\n",
    "        lab_df = pd.DataFrame(columns=lab.columns)\n",
    "        for pos_id in range(6):\n",
    "            pos = [0+pos_id, 6+pos_id, 12+pos_id]\n",
    "            LABRSL1N = np.mean(lab.iloc[pos])[1]\n",
    "            new_lab_df.loc[count_lab] = [updated_mask_id, lab.iloc[pos[0]]['PARNAM1C'], \n",
    "                                         lab.iloc[pos[0]]['PARNAM1A'],lab.iloc[pos[0]]['PARUNT1C'], \n",
    "                                         LABRSL1N]\n",
    "            count_lab += 1\n",
    "        \n",
    "    new_df = pd.DataFrame(all_cols, columns = list(columns))\n",
    "    return(new_df,new_effsen_df, new_lab_df)"
   ]
  },
  {
   "cell_type": "code",
   "execution_count": 109,
   "metadata": {},
   "outputs": [
    {
     "name": "stderr",
     "output_type": "stream",
     "text": [
      "/Users/gaurav/.pyenv/versions/3.6.0/lib/python3.6/site-packages/scipy/stats/stats.py:253: RuntimeWarning: The input array could not be properly checked for nan values. nan values will be ignored.\n",
      "  \"values. nan values will be ignored.\", RuntimeWarning)\n"
     ]
    }
   ],
   "source": [
    "patient_ids = drgexp[drgexp.AVGDOS_C==1]['MASK_ID']\n",
    "temp1, temp2, temp3 = perform_permutation(patient_ids)"
   ]
  },
  {
   "cell_type": "code",
   "execution_count": null,
   "metadata": {
    "collapsed": true
   },
   "outputs": [],
   "source": []
  }
 ],
 "metadata": {
  "kernelspec": {
   "display_name": "Python 3",
   "language": "python",
   "name": "python3"
  },
  "language_info": {
   "codemirror_mode": {
    "name": "ipython",
    "version": 3
   },
   "file_extension": ".py",
   "mimetype": "text/x-python",
   "name": "python",
   "nbconvert_exporter": "python",
   "pygments_lexer": "ipython3",
   "version": "3.6.0"
  }
 },
 "nbformat": 4,
 "nbformat_minor": 2
}
